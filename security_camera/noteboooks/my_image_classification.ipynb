{
 "cells": [
  {
   "cell_type": "code",
   "execution_count": 73,
   "id": "2b8ca55c-02ed-40ca-a590-de867d83a056",
   "metadata": {},
   "outputs": [],
   "source": [
    "#\n",
    "# Copyright 2022 Jiayi Hoffman. All Rights Reserved.\n",
    "#"
   ]
  },
  {
   "cell_type": "code",
   "execution_count": 1,
   "id": "c0a3c499-2afb-45dc-97cc-1e7cb0fb87c2",
   "metadata": {},
   "outputs": [],
   "source": [
    "import numpy as np\n",
    "import time\n",
    "import datetime\n",
    "\n",
    "import PIL.Image as Image\n",
    "import matplotlib.pyplot as plt\n",
    "\n",
    "import tensorflow as tf\n",
    "import tensorflow_hub as hub\n",
    "\n",
    "%matplotlib inline\n",
    "%load_ext tensorboard"
   ]
  },
  {
   "cell_type": "markdown",
   "id": "3c7f314d-5f17-444f-a9c5-760d8010c846",
   "metadata": {},
   "source": [
    "#### Load and batch the data"
   ]
  },
  {
   "cell_type": "code",
   "execution_count": 2,
   "id": "240dd462-b158-4c1d-92c5-a7ae153f3157",
   "metadata": {},
   "outputs": [
    {
     "name": "stdout",
     "output_type": "stream",
     "text": [
      "Found 38 files belonging to 2 classes.\n",
      "Found 16 files belonging to 2 classes.\n"
     ]
    },
    {
     "name": "stderr",
     "output_type": "stream",
     "text": [
      "2022-01-18 16:01:59.805686: I tensorflow/core/platform/cpu_feature_guard.cc:151] This TensorFlow binary is optimized with oneAPI Deep Neural Network Library (oneDNN) to use the following CPU instructions in performance-critical operations:  AVX2 FMA\n",
      "To enable them in other operations, rebuild TensorFlow with the appropriate compiler flags.\n"
     ]
    },
    {
     "name": "stdout",
     "output_type": "stream",
     "text": [
      "Found 10 files belonging to 2 classes.\n"
     ]
    }
   ],
   "source": [
    "import os\n",
    "\n",
    "# load image data from directory\n",
    "PATH = '../images'\n",
    "\n",
    "train_dir = os.path.join(PATH, 'train')\n",
    "validation_dir = os.path.join(PATH, 'validation')\n",
    "test_dir = os.path.join(PATH, 'test')\n",
    "\n",
    "BATCH_SIZE = 32\n",
    "IMG_SIZE = (224, 224)\n",
    "\n",
    "train_ds_original = tf.keras.utils.image_dataset_from_directory(train_dir,\n",
    "                                                            shuffle=True,\n",
    "                                                            batch_size=BATCH_SIZE,\n",
    "                                                            image_size=IMG_SIZE)\n",
    "\n",
    "val_ds_original = tf.keras.utils.image_dataset_from_directory(validation_dir,\n",
    "                                                                 shuffle=True,\n",
    "                                                                 batch_size=BATCH_SIZE,\n",
    "                                                                 image_size=IMG_SIZE)\n",
    "\n",
    "test_ds_original = tf.keras.utils.image_dataset_from_directory(test_dir,\n",
    "                                                                 shuffle=True,\n",
    "                                                                 batch_size=BATCH_SIZE,\n",
    "                                                                 image_size=IMG_SIZE)\n",
    "\n",
    "class_names = train_ds_original.class_names"
   ]
  },
  {
   "cell_type": "code",
   "execution_count": null,
   "id": "87add0ce-1aa4-4403-ac09-4227d1671d00",
   "metadata": {},
   "outputs": [],
   "source": [
    "# explore the data\n",
    "class_names = np.array(train_ds_original.class_names)\n",
    "print(class_names)\n",
    "\n",
    "# preprocess the data. xxxJiayi, instead of a step in the preprocessing pipeline, this is now part of the model layer. This simplifies the model test and consumption. \n",
    "# normalization_layer = tf.keras.layers.Rescaling(1./255)\n",
    "# train_ds = train_ds_original.map(lambda x, y: (normalization_layer(x), y)) # Where x—images, y—labels.\n",
    "# val_ds = val_ds_original.map(lambda x, y: (normalization_layer(x), y)) # Where x—images, y—labels.\n",
    "# test_ds = test_ds_original.map(lambda x, y: (normalization_layer(x), y)) # Where x—images, y—labels.\n",
    "\n",
    "# prefetch\n",
    "AUTOTUNE = tf.data.AUTOTUNE\n",
    "train_ds = train_ds_original.cache().prefetch(buffer_size=AUTOTUNE)\n",
    "val_ds = val_ds_original.cache().prefetch(buffer_size=AUTOTUNE)\n",
    "test_ds = test_ds_original.cache().prefetch(buffer_size=AUTOTUNE)\n"
   ]
  },
  {
   "cell_type": "markdown",
   "id": "45d6deb4-0898-488a-a6f6-b48e3d04480f",
   "metadata": {},
   "source": [
    "#### transfer learning from an existing Mobilenet model"
   ]
  },
  {
   "cell_type": "code",
   "execution_count": 4,
   "id": "81ca23df-d6ee-4f84-9d69-4a387c43bfda",
   "metadata": {},
   "outputs": [],
   "source": [
    "def draw_learning_curves(acc, val_acc, loss, val_loss, draw_finetune_line=False):\n",
    "    plt.figure(figsize=(8, 8))\n",
    "    plt.subplot(2, 1, 1)\n",
    "    plt.plot(acc, label='Training Accuracy')\n",
    "    plt.plot(val_acc, label='Validation Accuracy')   \n",
    "    plt.ylim([min(plt.ylim()), 1])\n",
    "    if draw_finetune_line:\n",
    "        plt.plot([initial_epochs-1,initial_epochs-1], plt.ylim(), label='Start Fine Tuning')\n",
    "    plt.legend(loc='lower right')\n",
    "    plt.ylabel('Accuracy')\n",
    "    plt.title('Training and Validation Accuracy')\n",
    "\n",
    "    plt.subplot(2, 1, 2)\n",
    "    plt.plot(loss, label='Training Loss')\n",
    "    plt.plot(val_loss, label='Validation Loss')\n",
    "    plt.ylim([0, 1.0])\n",
    "    if draw_finetune_line:\n",
    "        plt.plot([initial_epochs-1,initial_epochs-1], plt.ylim(), label='Start Fine Tuning')\n",
    "    plt.legend(loc='upper right')\n",
    "    plt.title('Training and Validation Loss')\n",
    "    plt.xlabel('epoch')\n",
    "    plt.ylabel('Cross Entropy')\n",
    "    \n",
    "    plt.show() \n"
   ]
  },
  {
   "cell_type": "code",
   "execution_count": 5,
   "id": "729308b8-a08f-4e94-93ac-9a79056376a2",
   "metadata": {},
   "outputs": [
    {
     "name": "stdout",
     "output_type": "stream",
     "text": [
      "Model: \"sequential_1\"\n",
      "_________________________________________________________________\n",
      " Layer (type)                Output Shape              Param #   \n",
      "=================================================================\n",
      " rescaling (Rescaling)       (None, 224, 224, 3)       0         \n",
      "                                                                 \n",
      " keras_layer (KerasLayer)    (None, 1024)              1026552   \n",
      "                                                                 \n",
      " dense (Dense)               (None, 2)                 2050      \n",
      "                                                                 \n",
      "=================================================================\n",
      "Total params: 1,028,602\n",
      "Trainable params: 2,050\n",
      "Non-trainable params: 1,026,552\n",
      "_________________________________________________________________\n",
      "Epoch 1/10\n",
      "2/2 [==============================] - 5s 1s/step - loss: 0.8773 - accuracy: 0.4737 - val_loss: 0.6272 - val_accuracy: 0.6250\n",
      "Epoch 2/10\n",
      "2/2 [==============================] - 1s 699ms/step - loss: 0.6675 - accuracy: 0.6842 - val_loss: 0.5357 - val_accuracy: 0.6250\n",
      "Epoch 3/10\n",
      "2/2 [==============================] - 1s 715ms/step - loss: 0.5169 - accuracy: 0.7368 - val_loss: 0.4613 - val_accuracy: 0.7500\n",
      "Epoch 4/10\n",
      "2/2 [==============================] - 1s 701ms/step - loss: 0.4017 - accuracy: 0.8421 - val_loss: 0.4010 - val_accuracy: 0.8750\n",
      "Epoch 5/10\n",
      "2/2 [==============================] - 1s 683ms/step - loss: 0.3154 - accuracy: 0.9474 - val_loss: 0.3527 - val_accuracy: 0.9375\n",
      "Epoch 6/10\n",
      "2/2 [==============================] - 1s 727ms/step - loss: 0.2514 - accuracy: 0.9737 - val_loss: 0.3141 - val_accuracy: 1.0000\n",
      "Epoch 7/10\n",
      "2/2 [==============================] - 1s 704ms/step - loss: 0.2042 - accuracy: 0.9737 - val_loss: 0.2835 - val_accuracy: 1.0000\n",
      "Epoch 8/10\n",
      "2/2 [==============================] - 1s 722ms/step - loss: 0.1691 - accuracy: 1.0000 - val_loss: 0.2591 - val_accuracy: 1.0000\n",
      "Epoch 9/10\n",
      "2/2 [==============================] - 1s 715ms/step - loss: 0.1427 - accuracy: 1.0000 - val_loss: 0.2396 - val_accuracy: 1.0000\n",
      "Epoch 10/10\n",
      "2/2 [==============================] - 1s 735ms/step - loss: 0.1224 - accuracy: 1.0000 - val_loss: 0.2237 - val_accuracy: 1.0000\n"
     ]
    },
    {
     "data": {
      "image/png": "[encoded data removed]",
      "text/plain": [
       "<Figure size 576x576 with 2 Axes>"
      ]
     },
     "metadata": {
      "needs_background": "light"
     },
     "output_type": "display_data"
    },
    {
     "data": {
      "text/html": [
       "\n",
       "      <iframe id=\"tensorboard-frame-1bd6957de5ee36ff\" width=\"100%\" height=\"800\" frameborder=\"0\">\n",
       "      </iframe>\n",
       "      <script>\n",
       "        (function() {\n",
       "          const frame = document.getElementById(\"tensorboard-frame-1bd6957de5ee36ff\");\n",
       "          const url = new URL(\"/\", window.location);\n",
       "          const port = 6006;\n",
       "          if (port) {\n",
       "            url.port = port;\n",
       "          }\n",
       "          frame.src = url;\n",
       "        })();\n",
       "      </script>\n",
       "    "
      ],
      "text/plain": [
       "<IPython.core.display.HTML object>"
      ]
     },
     "metadata": {},
     "output_type": "display_data"
    }
   ],
   "source": [
    "# download the feature vector model, which is also known as \"headless model\". it does not have the top sigmoid layer\n",
    "mobilenet_v3 = \"https://tfhub.dev/google/imagenet/mobilenet_v3_small_075_224/feature_vector/5\"\n",
    "mobilenet_v2 = \"https://hub.tensorflow.google.cn/google/tf2-preview/mobilenet_v2/feature_vector/4\"\n",
    "inception_v3 = \"https://hub.tensorflow.google.cn/google/tf2-preview/inception_v3/feature_vector/4\"\n",
    "\n",
    "feature_extractor_model = mobilenet_v3\n",
    "\n",
    "IMG_SHAPE = IMG_SIZE + (3,)\n",
    "# use trainable=False to keep weights stable, so that the training only modifies the new layer\n",
    "feature_extractor_layer = hub.KerasLayer(\n",
    "    feature_extractor_model,\n",
    "    input_shape=IMG_SHAPE,\n",
    "    trainable=False)\n",
    "\n",
    "data_augmentation = tf.keras.Sequential([\n",
    "  tf.keras.layers.RandomFlip('horizontal'),\n",
    "  tf.keras.layers.RandomRotation(0.2),\n",
    "])\n",
    "\n",
    "normalization_layer = tf.keras.layers.Rescaling(1./255)\n",
    "\n",
    "num_classes = len(class_names)\n",
    "model = tf.keras.Sequential([\n",
    "    tf.keras.Input(shape=IMG_SHAPE),\n",
    "    normalization_layer,\n",
    "    feature_extractor_layer,\n",
    "    tf.keras.layers.Dense(num_classes, activation=\"softmax\")\n",
    "])\n",
    "\n",
    "model.summary()\n",
    "\n",
    "model.compile(\n",
    "  optimizer=tf.keras.optimizers.Adam(),\n",
    "  loss=tf.keras.losses.SparseCategoricalCrossentropy(),\n",
    "  metrics=['accuracy'])\n",
    "# activation=\"softmax\" and \"from_logits=True\" in the loss funciton are mutually exclusive. remove \"from_logits\", and use \"softmax\"\n",
    "# See the explaination in https://datascience.stackexchange.com/questions/73093/what-does-from-logits-true-do-in-sparsecategoricalcrossentropy-loss-function\n",
    "\n",
    "# configure the tensorboard\n",
    "log_dir = \"logs/myfit/\" + datetime.datetime.now().strftime(\"%Y%m%d-%H%M%S\")\n",
    "tensorboard_callback = tf.keras.callbacks.TensorBoard(\n",
    "    log_dir=log_dir,\n",
    "    histogram_freq=1) # Enable histogram computation for every epoch.\n",
    "\n",
    "NUM_EPOCHS = 10\n",
    "\n",
    "history = model.fit(train_ds,\n",
    "                    validation_data=val_ds,\n",
    "                    epochs=NUM_EPOCHS,\n",
    "                    callbacks=tensorboard_callback)\n",
    "\n",
    "acc = history.history['accuracy']\n",
    "val_acc = history.history['val_accuracy']\n",
    "loss = history.history['loss']\n",
    "val_loss = history.history['val_loss']\n",
    "draw_learning_curves(acc, val_acc, loss, val_loss)\n",
    "\n",
    "%tensorboard --logdir logs/myfit"
   ]
  },
  {
   "cell_type": "markdown",
   "id": "86a6d998-fb65-42cc-910b-16f5edf3c45e",
   "metadata": {},
   "source": [
    "#### Evaluate the model using the test set"
   ]
  },
  {
   "cell_type": "code",
   "execution_count": 25,
   "id": "1d740a1a-e499-4006-adeb-0948e98466c9",
   "metadata": {},
   "outputs": [],
   "source": [
    "def show_image_prediction(image_batch, predicted_batch, label_batch):\n",
    "    num_images = len(image_batch)\n",
    "        \n",
    "    plt.figure(figsize=(15, 15))\n",
    "    plt.suptitle(\"Predictions\")\n",
    "    for i in range(num_images):\n",
    "        plt.subplot(4, 4, i+1)\n",
    "        plt.imshow(image_batch[i].astype(\"uint8\")) # pyplot requires integer type for image data value between [0, 255]\n",
    "        \n",
    "        title = 'pred:{}, label:{}'.format(class_names[predicted_batch[i]], class_names[label_batch[i]])\n",
    "        color = 'black'\n",
    "        if predicted_batch[i] != label_batch[i]:\n",
    "            color= 'red'\n",
    "        \n",
    "        plt.title(title, color=color)\n",
    "        plt.axis('off')\n",
    "    plt.show()  "
   ]
  },
  {
   "cell_type": "code",
   "execution_count": 26,
   "id": "4a9faa30-647f-47b2-a873-ab12267c4bfd",
   "metadata": {},
   "outputs": [],
   "source": [
    "# predict using the transfered model\n",
    "def predict(ds):\n",
    "    image_batch, label_batch = ds.as_numpy_iterator().next()\n",
    "    print('image batch shape:', image_batch.shape)\n",
    "    print('label batch shape:', label_batch.shape)\n",
    "\n",
    "    predictions = model.predict_on_batch(image_batch)   \n",
    "    print('predicted_batch shape', predictions.shape)\n",
    "\n",
    "    predicted_ids = tf.math.argmax(predictions, axis=-1)\n",
    "    \n",
    "    show_image_prediction(image_batch, predicted_ids, label_batch)"
   ]
  },
  {
   "cell_type": "code",
   "execution_count": null,
   "id": "273c3129-688e-4d62-8014-ed2adae49916",
   "metadata": {},
   "outputs": [],
   "source": [
    "loss, accuracy = model.evaluate(test_ds)\n",
    "print('Test accuracy :', accuracy)\n",
    "\n",
    "predict(test_ds)\n"
   ]
  },
  {
   "cell_type": "code",
   "execution_count": 39,
   "id": "f4fa3e56-4d1e-40ec-b6dc-22ebff186f79",
   "metadata": {},
   "outputs": [],
   "source": [
    "# test an individual picture\n",
    "def predict_one_image(a_model, image_path):\n",
    "    # using keras preprocessing package\n",
    "    img = tf.keras.preprocessing.image.load_img(image_path, target_size = IMG_SHAPE)\n",
    "    plt.axis('off')\n",
    "    plt.imshow(img)\n",
    "    plt.show()\n",
    "\n",
    "    img = np.array(img)/255.0\n",
    "    result = a_model.predict(img[np.newaxis, ...])\n",
    "    print(result)\n",
    "\n",
    "    # top_indices = tf.math.top_k(result[0], k=2).indices\n",
    "    # print('Predicted: ', [imagenet_labels[index] for index in top_indices])\n",
    "\n",
    "    predicted_id = tf.math.argmax(result[0], axis=-1)\n",
    "    predicted_class_name = class_names[predicted_id]\n",
    "    print(predicted_class_name)\n"
   ]
  },
  {
   "cell_type": "markdown",
   "id": "4127e2a2-cbe8-4cea-ad0f-1a2ad9b63991",
   "metadata": {},
   "source": [
    "#### Save the model for serving"
   ]
  },
  {
   "cell_type": "code",
   "execution_count": 50,
   "id": "f3c6bb30-052d-4f41-87ce-75d251e5adf7",
   "metadata": {},
   "outputs": [
    {
     "name": "stdout",
     "output_type": "stream",
     "text": [
      "INFO:tensorflow:Assets written to: saved_models/image_classification/20220118-175757/assets\n"
     ]
    },
    {
     "name": "stderr",
     "output_type": "stream",
     "text": [
      "INFO:tensorflow:Assets written to: saved_models/image_classification/20220118-175757/assets\n"
     ]
    }
   ],
   "source": [
    "# save the model\n",
    "timestamp = datetime.datetime.now().strftime(\"%Y%m%d-%H%M%S\")\n",
    "mobilenet_save_path = os.path.join(\"saved_models/image_classification/\", timestamp)\n",
    "tf.saved_model.save(model, mobilenet_save_path)\n"
   ]
  },
  {
   "cell_type": "code",
   "execution_count": 51,
   "id": "5093f472-d91b-456b-9947-79dfb29c8e74",
   "metadata": {},
   "outputs": [
    {
     "name": "stdout",
     "output_type": "stream",
     "text": [
      "['serving_default']\n",
      "{'dense': TensorSpec(shape=(None, 2), dtype=tf.float32, name='dense')}\n",
      "tf.Tensor([[0.56550014 0.43449977]], shape=(1, 2), dtype=float32)\n",
      "Mars\n"
     ]
    }
   ],
   "source": [
    "# load the saved model, and make sure it works as it was\n",
    "loaded = tf.saved_model.load(mobilenet_save_path)\n",
    "infer = loaded.signatures[\"serving_default\"]\n",
    "print(infer.structured_outputs)\n",
    "\n",
    "img = tf.keras.utils.load_img(img_path, target_size=IMG_SHAPE)\n",
    "x = tf.keras.utils.img_to_array(img)\n",
    "x = tf.keras.applications.mobilenet.preprocess_input(\n",
    "    x[tf.newaxis,...])\n",
    "labeling = infer(tf.constant(x))[model.output_names[0]]\n",
    "print(labeling)\n",
    "\n",
    "predicted_id = tf.math.argmax(labeling[0], axis=-1)\n",
    "print(class_names[predicted_id])"
   ]
  },
  {
   "cell_type": "markdown",
   "id": "f2d86581-ea35-44f6-b6d5-f3f9ac0ac745",
   "metadata": {},
   "source": [
    "### Convert the Keras model to TFLite"
   ]
  },
  {
   "cell_type": "markdown",
   "id": "b8f15b29-29a0-4324-96d3-edaa8ff16b59",
   "metadata": {},
   "source": [
    "#### Convert from a saved model (recommended)"
   ]
  },
  {
   "cell_type": "code",
   "execution_count": 66,
   "id": "3874ec18-e28d-4d4c-b2ce-3bd3c65c9f26",
   "metadata": {},
   "outputs": [
    {
     "name": "stderr",
     "output_type": "stream",
     "text": [
      "2022-01-18 21:49:42.407176: W tensorflow/compiler/mlir/lite/python/tf_tfl_flatbuffer_helpers.cc:363] Ignored output_format.\n",
      "2022-01-18 21:49:42.407190: W tensorflow/compiler/mlir/lite/python/tf_tfl_flatbuffer_helpers.cc:366] Ignored drop_control_dependency.\n",
      "2022-01-18 21:49:42.407193: W tensorflow/compiler/mlir/lite/python/tf_tfl_flatbuffer_helpers.cc:372] Ignored change_concat_input_ranges.\n",
      "2022-01-18 21:49:42.407283: I tensorflow/cc/saved_model/reader.cc:43] Reading SavedModel from: saved_models/image_classification/20220118-175757\n",
      "2022-01-18 21:49:42.417487: I tensorflow/cc/saved_model/reader.cc:107] Reading meta graph with tags { serve }\n",
      "2022-01-18 21:49:42.417496: I tensorflow/cc/saved_model/reader.cc:148] Reading SavedModel debug info (if present) from: saved_models/image_classification/20220118-175757\n",
      "2022-01-18 21:49:42.464317: I tensorflow/cc/saved_model/loader.cc:210] Restoring SavedModel bundle.\n",
      "2022-01-18 21:49:42.762962: I tensorflow/cc/saved_model/loader.cc:194] Running initialization op on SavedModel bundle at path: saved_models/image_classification/20220118-175757\n",
      "2022-01-18 21:49:42.905773: I tensorflow/cc/saved_model/loader.cc:283] SavedModel load for tags { serve }; Status: success: OK. Took 498490 microseconds.\n",
      "WARNING:absl:Buffer deduplication procedure will be skipped when flatbuffer library is not properly loaded\n"
     ]
    }
   ],
   "source": [
    "def write_tflite_model_to_file(tflite_model):\n",
    "    timestamp = datetime.datetime.now().strftime(\"%Y%m%d-%H%M%S\")\n",
    "    tflite_model_path = os.path.join('./tflite_models/image_classification/', timestamp+'.tflite')\n",
    "    \n",
    "    with open(tflite_model_path, 'wb') as f:\n",
    "        f.write(tflite_model)\n",
    "    \n",
    "# Convert the model\n",
    "converter = tf.lite.TFLiteConverter.from_saved_model(mobilenet_save_path)\n",
    "tflite_model = converter.convert()\n",
    "write_tflite_model_to_file(tflite_model)\n"
   ]
  },
  {
   "cell_type": "markdown",
   "id": "05eef77e-f9be-4938-9a0c-c72a4ce6ac87",
   "metadata": {},
   "source": [
    "#### Convert directly from a Keras Model "
   ]
  },
  {
   "cell_type": "code",
   "execution_count": 69,
   "id": "d1d8f8ca-5ea5-482f-8045-d6303b166d8d",
   "metadata": {},
   "outputs": [
    {
     "name": "stdout",
     "output_type": "stream",
     "text": [
      "INFO:tensorflow:Assets written to: /var/folders/vt/hy4b4qm96lgft4mpdx1b8p1r0000gn/T/tmpquyccsqp/assets\n"
     ]
    },
    {
     "name": "stderr",
     "output_type": "stream",
     "text": [
      "INFO:tensorflow:Assets written to: /var/folders/vt/hy4b4qm96lgft4mpdx1b8p1r0000gn/T/tmpquyccsqp/assets\n",
      "2022-01-18 21:51:39.518996: W tensorflow/compiler/mlir/lite/python/tf_tfl_flatbuffer_helpers.cc:363] Ignored output_format.\n",
      "2022-01-18 21:51:39.519011: W tensorflow/compiler/mlir/lite/python/tf_tfl_flatbuffer_helpers.cc:366] Ignored drop_control_dependency.\n",
      "2022-01-18 21:51:39.519106: I tensorflow/cc/saved_model/reader.cc:43] Reading SavedModel from: /var/folders/vt/hy4b4qm96lgft4mpdx1b8p1r0000gn/T/tmpquyccsqp\n",
      "2022-01-18 21:51:39.529942: I tensorflow/cc/saved_model/reader.cc:107] Reading meta graph with tags { serve }\n",
      "2022-01-18 21:51:39.529956: I tensorflow/cc/saved_model/reader.cc:148] Reading SavedModel debug info (if present) from: /var/folders/vt/hy4b4qm96lgft4mpdx1b8p1r0000gn/T/tmpquyccsqp\n",
      "2022-01-18 21:51:39.591524: I tensorflow/cc/saved_model/loader.cc:210] Restoring SavedModel bundle.\n",
      "2022-01-18 21:51:39.896393: I tensorflow/cc/saved_model/loader.cc:194] Running initialization op on SavedModel bundle at path: /var/folders/vt/hy4b4qm96lgft4mpdx1b8p1r0000gn/T/tmpquyccsqp\n",
      "2022-01-18 21:51:40.037979: I tensorflow/cc/saved_model/loader.cc:283] SavedModel load for tags { serve }; Status: success: OK. Took 518874 microseconds.\n",
      "WARNING:absl:Buffer deduplication procedure will be skipped when flatbuffer library is not properly loaded\n"
     ]
    }
   ],
   "source": [
    "# Convert the model.\n",
    "converter2 = tf.lite.TFLiteConverter.from_keras_model(model)\n",
    "tflite_model2 = converter2.convert()\n",
    "write_tflite_model_to_file(tflite_model2)\n"
   ]
  },
  {
   "cell_type": "markdown",
   "id": "c95958ef-91ec-4d00-8543-e3b784182f9d",
   "metadata": {},
   "source": [
    "#### evaluate the tflite model using the test set"
   ]
  },
  {
   "cell_type": "code",
   "execution_count": 72,
   "id": "d9e7071f-a975-4118-928f-f12618890b53",
   "metadata": {},
   "outputs": [
    {
     "name": "stdout",
     "output_type": "stream",
     "text": [
      "ftlite model accuracy = 0.9000\n"
     ]
    }
   ],
   "source": [
    "# A helper function to evaluate the TF Lite model using \"test\" dataset.\n",
    "def evaluate_tflite_model(tflite_model, ds):\n",
    "    image_batch, label_batch = ds.as_numpy_iterator().next()\n",
    "\n",
    "    # Initialize TFLite interpreter using the model.\n",
    "    interpreter = tf.lite.Interpreter(model_content=tflite_model)\n",
    "    interpreter.allocate_tensors()\n",
    "    input_tensor_index = interpreter.get_input_details()[0][\"index\"]\n",
    "    output = interpreter.tensor(interpreter.get_output_details()[0][\"index\"])\n",
    "\n",
    "  # Run predictions on every image in the \"test\" dataset.\n",
    "    predictions = []\n",
    "    for test_image in image_batch:\n",
    "        # Pre-processing: add batch dimension and convert to float32 to match with\n",
    "        # the model's input data format.\n",
    "        test_image = np.expand_dims(test_image, axis=0).astype(np.float32)\n",
    "        interpreter.set_tensor(input_tensor_index, test_image)\n",
    "\n",
    "        # Run inference.\n",
    "        interpreter.invoke()\n",
    "\n",
    "        # Post-processing: remove batch dimension and find the digit with highest\n",
    "        # probability.\n",
    "        prediction = np.argmax(output()[0])\n",
    "        predictions.append(prediction)\n",
    "\n",
    "    # Compare prediction results with ground truth labels to calculate accuracy.\n",
    "    accurate_count = 0\n",
    "    for index in range(len(predictions)):\n",
    "        if predictions[index] == label_batch[index]:\n",
    "            accurate_count += 1\n",
    "    accuracy = accurate_count * 1.0 / len(predictions)\n",
    "\n",
    "    return accuracy\n",
    "\n",
    "\n",
    "float_accuracy = evaluate_tflite_model(tflite_model, test_ds)\n",
    "print('ftlite model accuracy = %.4f' % float_accuracy)\n"
   ]
  },
  {
   "cell_type": "code",
   "execution_count": null,
   "id": "fada2744-0daa-4782-8181-145cf7c218cc",
   "metadata": {},
   "outputs": [],
   "source": []
  }
 ],
 "metadata": {
  "kernelspec": {
   "display_name": "Python 3 (ipykernel)",
   "language": "python",
   "name": "python3"
  },
  "language_info": {
   "codemirror_mode": {
    "name": "ipython",
    "version": 3
   },
   "file_extension": ".py",
   "mimetype": "text/x-python",
   "name": "python",
   "nbconvert_exporter": "python",
   "pygments_lexer": "ipython3",
   "version": "3.7.7"
  }
 },
 "nbformat": 4,
 "nbformat_minor": 5
}
